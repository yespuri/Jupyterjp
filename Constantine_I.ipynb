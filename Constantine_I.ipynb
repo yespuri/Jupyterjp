{
  "nbformat": 4,
  "nbformat_minor": 0,
  "metadata": {
    "colab": {
      "name": "Constantine I.ipynb",
      "provenance": [],
      "collapsed_sections": [
        "ercDPZ6CIlVz",
        "4E-uzYrv5o0B",
        "Q_wvtTnLaCA_",
        "3btCxs20aJ8E",
        "o5XXrwpBfHSZ",
        "fzK--te4ivDU"
      ],
      "machine_shape": "hm",
      "include_colab_link": true
    },
    "kernelspec": {
      "name": "python3",
      "display_name": "Python 3"
    },
    "accelerator": "GPU"
  },
  "cells": [
    {
      "cell_type": "markdown",
      "metadata": {
        "id": "view-in-github",
        "colab_type": "text"
      },
      "source": [
        "<a href=\"https://colab.research.google.com/github/yespuri/Jupyterjp/blob/main/Constantine_I.ipynb\" target=\"_parent\"><img src=\"https://colab.research.google.com/assets/colab-badge.svg\" alt=\"Open In Colab\"/></a>"
      ]
    },
    {
      "cell_type": "markdown",
      "metadata": {
        "id": "ercDPZ6CIlVz"
      },
      "source": [
        "# <img src=\"https://upload.wikimedia.org/wikipedia/commons/thumb/d/da/Google_Drive_logo.png/600px-Google_Drive_logo.png\" height=30px>      ___Mount / Unmount Gdrive!___"
      ]
    },
    {
      "cell_type": "code",
      "metadata": {
        "cellView": "form",
        "id": "U2avD1zRIlWA",
        "colab": {
          "base_uri": "https://localhost:8080/"
        },
        "outputId": "1080095c-fc54-4300-c513-5f324d0e94e0"
      },
      "source": [
        "#@markdown <br><center><img src='https://upload.wikimedia.org/wikipedia/commons/thumb/d/da/Google_Drive_logo.png/600px-Google_Drive_logo.png' height=\"50\" alt=\"Gdrive logo\"/></center>\n",
        "#@markdown <center><h3>Mount Gdrive to /content/drive</h3></center><br>\n",
        "MODE = \"MOUNT\" #@param [\"MOUNT\", \"UNMOUNT\"]\n",
        "#Mount your Gdrive! \n",
        "from google.colab import drive\n",
        "drive.mount._DEBUG = False\n",
        "if MODE == \"MOUNT\":\n",
        "  drive.mount('/content/drive', force_remount=True)\n",
        "elif MODE == \"UNMOUNT\":\n",
        "  try:\n",
        "    drive.flush_and_unmount()\n",
        "  except ValueError:\n",
        "    pass\n",
        "  get_ipython().system_raw(\"rm -rf /root/.config/Google/DriveFS\")"
      ],
      "execution_count": 2,
      "outputs": [
        {
          "output_type": "stream",
          "name": "stdout",
          "text": [
            "Mounted at /content/drive\n"
          ]
        }
      ]
    },
    {
      "cell_type": "code",
      "metadata": {
        "id": "xU1pQ6vsXaMG"
      },
      "source": [
        ""
      ],
      "execution_count": null,
      "outputs": []
    },
    {
      "cell_type": "code",
      "metadata": {
        "id": "IsQPA4qZD4hK",
        "cellView": "form"
      },
      "source": [
        "#@markdown <h4><b>←</b> ឵឵Click Here to <b>Force Remount</b> your Google Drive</h4>\n",
        "#@markdown <h5><i>(Only use if needed)</i></h5>\n",
        "drive.mount(\"/content/drive\", force_remount=True)"
      ],
      "execution_count": null,
      "outputs": []
    },
    {
      "cell_type": "markdown",
      "metadata": {
        "id": "w8A6ck6_eYdl"
      },
      "source": [
        ""
      ]
    },
    {
      "cell_type": "markdown",
      "metadata": {
        "id": "o5XXrwpBfHSZ"
      },
      "source": [
        "# Zip & Direct link to google drive"
      ]
    },
    {
      "cell_type": "markdown",
      "metadata": {
        "id": "1BREMSYBgPhx"
      },
      "source": [
        "__ZIP__\n",
        " \n",
        "1. Copy Path paste on FILENAME add \".zip\"\n",
        "Example: Content/MyDrive/abc to Content/MyDrive/abc.zip\n",
        "2. paste on PATH_TO_FILE\n",
        "3. Click Execute"
      ]
    },
    {
      "cell_type": "code",
      "metadata": {
        "id": "fFZQbxt0fYmv",
        "colab": {
          "base_uri": "https://localhost:8080/"
        },
        "cellView": "form",
        "outputId": "9ada179d-498e-434e-8296-d95500ff5fc2"
      },
      "source": [
        " # ============================= FORM ============================= #\n",
        "# @markdown #### ⬅️ Archive Files\n",
        "MODE = \"ZIP\" #@param [\"ZIP\", \"TAR\", \"7Z\"]\n",
        "FILENAME = \"/content/drive/Shareddrives/AUDYBOOK/UNORGANIZED/VPN Free - Betternet Hotspot VPN & Private Browser v5.8.0 Premium Mod Apk {CracksHash}.zip\"  # @param {type:\"string\"}\n",
        "PATH_TO_FILE = \"/content/drive/Shareddrives/AUDYBOOK/UNORGANIZED/VPN Free - Betternet Hotspot VPN & Private Browser v5.8.0 Premium Mod Apk {CracksHash}\"  # @param {type:\"string\"}\n",
        "ARCHIVE_PASSWORD = \"\" #@param {type:\"string\"}\n",
        " \n",
        "# option supports b k m g (bytes, kilobytes, megabytes, gigabytes)\n",
        "SPLIT = \"no\" #@param [\"1g\", \"2g\", \"3g\", \"4g\", \"5g\", \"no\"]\n",
        " \n",
        " \n",
        "compress = 4#@param  {type:\"slider\", min:0, max:9, step:0}\n",
        "#@markdown <font size=2%>Use this to path separate between to this character `|`. Ex `path/to /1 | path/to/2` </br>#Split only in zip mode.(Only for noobs)\n",
        "# ================================================================ #\n",
        "from pathlib import PurePosixPath\n",
        " \n",
        "pathList = PATH_TO_FILE.split('|')\n",
        "if MODE == \"ZIP\":\n",
        "    if not FILENAME:\n",
        "      FILENAME = \"/content/NEW_FILE.ZIP\"\n",
        "    if ARCHIVE_PASSWORD:\n",
        "      passADD = f'--password \"{ARCHIVE_PASSWORD}\"'\n",
        "    else:\n",
        "      passADD = ''\n",
        "    splitC = f\"-s {SPLIT}\" if not 'no' in SPLIT else \"\" \n",
        "    for part in pathList:\n",
        "      pathdic = PurePosixPath(part.strip())\n",
        "      parent = pathdic.parent\n",
        "      partName = pathdic.parts[-1]\n",
        "      cmd = f'cd \"{parent}\" && zip {passADD} -{compress} {splitC} -v -r -u \"{FILENAME}\" \"{partName}\"'\n",
        "      !$cmd\n",
        "elif MODE == \"TAR\":\n",
        "    if not FILENAME:\n",
        "      FILENAME = \"/content/NEW_FILE\"\n",
        "    cmd = f'GZIP=-{compress} tar -zcvf \"{FILENAME}.tar.gz\" {PATH_TO_FILE}'\n",
        "    !$cmd\n",
        "else:\n",
        "    if not FILENAME:\n",
        "        FILENAME = \"/content/NEW_FILE\"\n",
        "    for part in pathList:\n",
        "      pathdic = PurePosixPath(part.strip())\n",
        "      parent = pathdic.parent\n",
        "      partName = pathdic.parts[-1]\n",
        "      cmd = f'cd \"{parent}\" && 7z a -mx={compress} \"{FILENAME}.7z\" \"{partName}\"'\n",
        "      !$cmd"
      ],
      "execution_count": 8,
      "outputs": [
        {
          "output_type": "stream",
          "name": "stdout",
          "text": [
            "\tzip warning: /content/drive/Shareddrives/AUDYBOOK/UNORGANIZED/VPN Free - Betternet Hotspot VPN & Private Browser v5.8.0 Premium Mod Apk {CracksHash}.zip not found or empty\n",
            "  adding: VPN Free - Betternet Hotspot VPN & Private Browser v5.8.0 Premium Mod Apk {CracksHash}/\t(in=0) (out=0) (stored 0%)\n",
            "  adding: VPN Free - Betternet Hotspot VPN & Private Browser v5.8.0 Premium Mod Apk {CracksHash}/Betternet Hotspot VPN Premium v5.8.0 {CracksHash}.apk .\t(in=17436048) (out=16694624) (deflated 4%)\n",
            "  adding: VPN Free - Betternet Hotspot VPN & Private Browser v5.8.0 Premium Mod Apk {CracksHash}/Instructions!.txt\t(in=565) (out=297) (deflated 47%)\n",
            "total bytes=17436613, compressed=16694921 -> 4% savings\n"
          ]
        }
      ]
    },
    {
      "cell_type": "code",
      "metadata": {
        "id": "I2S8Y2yMVZpX",
        "colab": {
          "base_uri": "https://localhost:8080/"
        },
        "outputId": "64921027-70df-42d0-accf-d6c9217c53fb"
      },
      "source": [
        "from google.colab import drive\n",
        "drive.mount('/content/drive')"
      ],
      "execution_count": 3,
      "outputs": [
        {
          "output_type": "stream",
          "name": "stdout",
          "text": [
            "Drive already mounted at /content/drive; to attempt to forcibly remount, call drive.mount(\"/content/drive\", force_remount=True).\n"
          ]
        }
      ]
    }
  ]
}